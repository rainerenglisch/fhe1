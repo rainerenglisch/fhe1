{
 "cells": [
  {
   "cell_type": "markdown",
   "id": "d090c655-b39b-4250-b25c-1570a5a0f659",
   "metadata": {},
   "source": [
    "# Fully Connected Neural Network"
   ]
  },
  {
   "cell_type": "markdown",
   "id": "352383ff-5f17-41ff-94d4-9180e5a1e3b0",
   "metadata": {},
   "source": [
    "In this example, we show how one can train a neural network on a specific task (here, Iris Classification) and use Concrete-Numpy to make the model work in FHE settings."
   ]
  },
  {
   "cell_type": "code",
   "execution_count": 1,
   "id": "f819fc5f-c476-4a03-b4be-74e1923680c0",
   "metadata": {},
   "outputs": [],
   "source": [
    "import time\n",
    "import numpy as np\n",
    "import torch\n",
    "from torch import nn"
   ]
  },
  {
   "cell_type": "markdown",
   "id": "c8c7dd5e-15ee-4af8-afbf-77bea52e6a6e",
   "metadata": {},
   "source": [
    "# Define our neural network"
   ]
  },
  {
   "cell_type": "code",
   "execution_count": 2,
   "id": "36d39c0b-9e17-4e3b-a69c-f06b3850266f",
   "metadata": {},
   "outputs": [],
   "source": [
    "class FCIris(torch.nn.Module):\n",
    "    \"\"\"Neural network for Iris classification\n",
    "\n",
    "    We define a fully connected network with three (3) fully connected (fc) layers that\n",
    "    perform feature extraction and one (fc) layer to produce the final classification.\n",
    "    We will use 3 neurons on all layers to ensure that the FHE accumulators\n",
    "    do not overflow (we are currently only allowed a maximum of 7 bits-width).\n",
    "    More information on this is available at\n",
    "    https://docs.zama.ai/concrete-numpy/main/user/howto/reduce_needed_precision.html#limitations-for-fhe-friendly-neural-network.\n",
    "\n",
    "    Due to accumulator limits, we have to design a network with only a few neurons on each layer.\n",
    "    This is in contrast to a traditional approach where the number of neurons increases after\n",
    "    each layer or block.\n",
    "    \"\"\"\n",
    "\n",
    "    def __init__(self, input_size):\n",
    "        super().__init__()\n",
    "\n",
    "        # The first layer processes the input data, in our case 4 dimensional vectors\n",
    "        self.linear1 = nn.Linear(input_size, 3)\n",
    "        self.sigmoid1 = nn.Sigmoid()\n",
    "        # Next, we add a one intermediate layer\n",
    "        self.linear2 = nn.Linear(3, 3)\n",
    "        self.sigmoid2 = nn.Sigmoid()\n",
    "        # Finally, we add the decision layer for 3 output classes encoded as one-hot vectors\n",
    "        self.decision = nn.Linear(3, 3)\n",
    "\n",
    "    def forward(self, x):\n",
    "\n",
    "        x = self.linear1(x)\n",
    "        x = self.sigmoid1(x)\n",
    "        x = self.linear2(x)\n",
    "        x = self.sigmoid2(x)\n",
    "        x = self.decision(x)\n",
    "\n",
    "        return x"
   ]
  },
  {
   "cell_type": "markdown",
   "id": "23e9feb3-4b71-4293-9585-3aed0bc60b0a",
   "metadata": {},
   "source": [
    "# Define all required variables to train the model"
   ]
  },
  {
   "cell_type": "code",
   "execution_count": 3,
   "id": "bcee3620-0033-4d4a-b54c-ddf3daed68b0",
   "metadata": {},
   "outputs": [
    {
     "name": "stdout",
     "output_type": "stream",
     "text": [
      "X_train.shape: (112, 4)\n",
      "X_test.shape: (38, 4)\n"
     ]
    }
   ],
   "source": [
    "# Get iris dataset\n",
    "from sklearn.datasets import load_iris\n",
    "\n",
    "X, y = load_iris(return_X_y=True)\n",
    "\n",
    "# Split into train and test\n",
    "from sklearn.model_selection import train_test_split\n",
    "\n",
    "X_train, X_test, y_train, y_test = train_test_split(X, y, test_size=0.25, random_state=42)\n",
    "print(f\"X_train.shape: {X_train.shape}\")\n",
    "print(f\"X_test.shape: {X_test.shape}\")\n",
    "      \n",
    "# Convert to tensors\n",
    "X_train = torch.tensor(X_train).float()\n",
    "X_test = torch.tensor(X_test).float()\n",
    "y_train = torch.tensor(y_train)\n",
    "y_test = torch.tensor(y_test)\n",
    "\n",
    "# Initialize our model\n",
    "model = FCIris(X.shape[1])\n",
    "\n",
    "# Define our loss function\n",
    "criterion = nn.CrossEntropyLoss()\n",
    "\n",
    "# Define our optimizer\n",
    "optimizer = torch.optim.SGD(model.parameters(), lr=0.1)\n",
    "\n",
    "# Define the number of iterations\n",
    "n_iters = 50001\n",
    "\n",
    "# Define the batch size\n",
    "batch_size = 16"
   ]
  },
  {
   "cell_type": "markdown",
   "id": "178b466d-6f2e-4840-a7f2-67149408b3ce",
   "metadata": {},
   "source": [
    "# Train the model\n"
   ]
  },
  {
   "cell_type": "code",
   "execution_count": 4,
   "id": "be061d20-38d7-48ad-a763-b82315f96ad3",
   "metadata": {},
   "outputs": [],
   "source": [
    "def train():\n",
    "    for i in range(n_iters):\n",
    "        # Get a random batch of training data\n",
    "        idx = torch.randperm(X_train.size()[0])\n",
    "        X_batch = X_train[idx][:batch_size]\n",
    "        y_batch = y_train[idx][:batch_size]\n",
    "\n",
    "        # Forward pass\n",
    "        y_pred = model(X_batch)\n",
    "\n",
    "        # Compute loss\n",
    "        loss = criterion(y_pred, y_batch)\n",
    "\n",
    "        # Backward pass\n",
    "        optimizer.zero_grad()\n",
    "        loss.backward()\n",
    "\n",
    "        # Update weights\n",
    "        optimizer.step()\n",
    "\n",
    "        if i % 1000 == 0:\n",
    "            # Print epoch number, loss and accuracy\n",
    "            accuracy = torch.sum(torch.argmax(y_pred, dim=1) == y_batch).item() / y_batch.size()[0]\n",
    "            print(f\"Iterations: {i:02} | Loss: {loss.item():.4f} | Accuracy: {100*accuracy:.2f}%\")\n",
    "            if accuracy == 1:\n",
    "                break"
   ]
  },
  {
   "cell_type": "markdown",
   "id": "4ff150d2-0e5e-4c23-9e39-c0e5c50b4ec3",
   "metadata": {},
   "source": [
    "# Compile the model\n"
   ]
  },
  {
   "cell_type": "markdown",
   "id": "1391b46d-3b8c-486e-8cb7-02fcff7ec2bc",
   "metadata": {},
   "source": [
    "The compile_torch_model first applies a quantization to model with n_bits of precision using X_train as the calibration dataset and compile the model to its FHE counterparts. Here we use 3 bits of precision. In some edge cases, the network accumulators can overflow (i.e. extreme quantized values in both input and weights, which is unlikely). In such a case, we need to retrain the model."
   ]
  },
  {
   "cell_type": "code",
   "execution_count": 5,
   "id": "6b7bb65c-59a2-4d23-9a10-9d51650755ba",
   "metadata": {},
   "outputs": [
    {
     "name": "stdout",
     "output_type": "stream",
     "text": [
      "Training a FHE friendly quantized network.\n",
      "Iterations: 00 | Loss: 1.1024 | Accuracy: 37.50%\n",
      "Iterations: 1000 | Loss: 1.0870 | Accuracy: 25.00%\n",
      "Iterations: 2000 | Loss: 0.3963 | Accuracy: 81.25%\n",
      "Iterations: 3000 | Loss: 0.4721 | Accuracy: 81.25%\n",
      "Iterations: 4000 | Loss: 0.1357 | Accuracy: 100.00%\n",
      "Compiling the model to FHE.\n",
      "The network is trained and FHE friendly.\n"
     ]
    }
   ],
   "source": [
    "from concrete.ml.torch.compile import compile_torch_model\n",
    "\n",
    "print(\"Training a FHE friendly quantized network.\")\n",
    "for _ in range(10):\n",
    "    try:\n",
    "        train()\n",
    "        print(\"Compiling the model to FHE.\")\n",
    "        quantized_compiled_module = compile_torch_model(\n",
    "            model,\n",
    "            X_train,\n",
    "            n_bits=3,\n",
    "        )\n",
    "        print(\"The network is trained and FHE friendly.\")\n",
    "        break\n",
    "    except RuntimeError as e:\n",
    "        if str(e).startswith(\"max_bit_width of some nodes is too high\"):\n",
    "            print(\"The network is not fully FHE friendly, retraining.\")\n",
    "            continue\n",
    "        raise e\n",
    "else:\n",
    "    raise RuntimeError(\n",
    "        \"Could not compile the model to FHE.\"\n",
    "        \"You may need to decrease the n_bits parameter to avoid potential overflows.\"\n",
    "    )"
   ]
  },
  {
   "cell_type": "markdown",
   "id": "8452bc1b-bb39-45a3-aa8d-cf69177b6cd9",
   "metadata": {},
   "source": [
    "# Predict with the torch model in clear\n"
   ]
  },
  {
   "cell_type": "code",
   "execution_count": 6,
   "id": "5176b674-ba2b-407f-a3d5-97c5a2d39163",
   "metadata": {},
   "outputs": [
    {
     "name": "stdout",
     "output_type": "stream",
     "text": [
      "torch model predict 0.0007 seconds\n"
     ]
    }
   ],
   "source": [
    "tic = time.perf_counter()\n",
    "y_pred = model(X_test)\n",
    "toc = time.perf_counter()\n",
    "time_torch_model_predict = toc - tic\n",
    "\n",
    "print(f\"torch model predict {time_torch_model_predict:0.4f} seconds\")"
   ]
  },
  {
   "cell_type": "markdown",
   "id": "e58460c9-32f3-465b-b57f-f0a1281e2e71",
   "metadata": {},
   "source": [
    "# Predict with the quantized model\n"
   ]
  },
  {
   "cell_type": "code",
   "execution_count": 7,
   "id": "b87ca677-26f2-438b-be24-5f3275ed9800",
   "metadata": {},
   "outputs": [
    {
     "name": "stdout",
     "output_type": "stream",
     "text": [
      "torch model predict 0.0058 seconds\n"
     ]
    }
   ],
   "source": [
    "# We now have a module in full numpy.\n",
    "# Convert data to a numpy array.\n",
    "X_train_numpy = X_train.numpy()\n",
    "X_test_numpy = X_test.numpy()\n",
    "y_train_numpy = y_train.numpy()\n",
    "y_test_numpy = y_test.numpy()\n",
    "q_X_test_numpy = quantized_compiled_module.quantize_input(X_test_numpy)\n",
    "tic = time.perf_counter()\n",
    "quant_model_predictions = quantized_compiled_module(q_X_test_numpy)\n",
    "toc = time.perf_counter()\n",
    "time_q_torch_model_predict = toc - tic\n",
    "\n",
    "print(f\"torch model predict {time_q_torch_model_predict:0.4f} seconds\")"
   ]
  },
  {
   "cell_type": "markdown",
   "id": "a9fc7f3d-c88e-48d9-a00a-800bd714a29d",
   "metadata": {},
   "source": [
    "# Predict in FHE\n"
   ]
  },
  {
   "cell_type": "code",
   "execution_count": 8,
   "id": "61ef07d5-a61a-44df-9615-00e546c03b4a",
   "metadata": {},
   "outputs": [
    {
     "name": "stderr",
     "output_type": "stream",
     "text": [
      "100%|███████████████████████████████████████████| 38/38 [04:14<00:00,  6.71s/it]"
     ]
    },
    {
     "name": "stdout",
     "output_type": "stream",
     "text": [
      "torch model predict 4.2492 minutes\n"
     ]
    },
    {
     "name": "stderr",
     "output_type": "stream",
     "text": [
      "\n"
     ]
    }
   ],
   "source": [
    "from tqdm import tqdm\n",
    "\n",
    "fhe_x_test = quantized_compiled_module.quantize_input(X_test_numpy)\n",
    "homomorphic_quant_predictions = []\n",
    "tic = time.perf_counter()\n",
    "\n",
    "for x_q in tqdm(fhe_x_test):\n",
    "    homomorphic_quant_predictions.append(\n",
    "        quantized_compiled_module.forward_fhe.encrypt_run_decrypt(np.array([x_q]).astype(np.uint8))\n",
    "    )\n",
    "homomorphic_predictions = quantized_compiled_module.dequantize_output(\n",
    "    np.array(homomorphic_quant_predictions, dtype=np.float32).reshape(quant_model_predictions.shape)\n",
    ")\n",
    "\n",
    "toc = time.perf_counter()\n",
    "time_q_fhe_torch_model_predict_1 = toc - tic\n",
    "\n",
    "print(f\"torch model predict {time_q_fhe_torch_model_predict_1/60:0.4f} minutes\")\n"
   ]
  },
  {
   "cell_type": "code",
   "execution_count": 9,
   "id": "03176745-f69f-493e-ba64-d32e0015dfd8",
   "metadata": {},
   "outputs": [
    {
     "name": "stderr",
     "output_type": "stream",
     "text": [
      "100%|███████████████████████████████████████████| 38/38 [01:05<00:00,  1.73s/it]"
     ]
    },
    {
     "name": "stdout",
     "output_type": "stream",
     "text": [
      "torch model predict 1.0943 minutes\n"
     ]
    },
    {
     "name": "stderr",
     "output_type": "stream",
     "text": [
      "\n"
     ]
    }
   ],
   "source": [
    "#from tqdm import tqdm\n",
    "\n",
    "#fhe_x_test = quantized_compiled_module.quantize_input(X_test_numpy)\n",
    "homomorphic_quant_predictions = []\n",
    "tic = time.perf_counter()\n",
    "\n",
    "for x_q in tqdm(fhe_x_test):\n",
    "    homomorphic_quant_predictions.append(\n",
    "        quantized_compiled_module.forward_fhe.encrypt_run_decrypt(np.array([x_q]).astype(np.uint8))\n",
    "    )\n",
    "homomorphic_predictions = quantized_compiled_module.dequantize_output(\n",
    "    np.array(homomorphic_quant_predictions, dtype=np.float32).reshape(quant_model_predictions.shape)\n",
    ")\n",
    "\n",
    "toc = time.perf_counter()\n",
    "time_q_fhe_torch_model_predict_2 = toc - tic\n",
    "\n",
    "print(f\"torch model predict {time_q_fhe_torch_model_predict_2/60:0.4f} minutes\")\n"
   ]
  },
  {
   "cell_type": "markdown",
   "id": "54012184-4dd3-46f4-8eee-8e845c623caa",
   "metadata": {},
   "source": [
    "# Print the accuracy of both models\n"
   ]
  },
  {
   "cell_type": "code",
   "execution_count": 10,
   "id": "2935eefb-1eda-42ff-9b22-9f09dc852b8d",
   "metadata": {},
   "outputs": [
    {
     "name": "stdout",
     "output_type": "stream",
     "text": [
      "Test Accuracy: 94.74%\n",
      "Test Accuracy Quantized Inference: 76.32%\n",
      "Test Accuracy Homomorphic Inference: 76.32%\n"
     ]
    }
   ],
   "source": [
    "acc_0 = 100 * (y_pred.argmax(1) == y_test).float().mean()\n",
    "acc_1 = 100 * (quant_model_predictions.argmax(1) == y_test_numpy).mean()\n",
    "acc_2 = 100 * (homomorphic_predictions.argmax(1) == y_test_numpy).mean()\n",
    "\n",
    "print(f\"Test Accuracy: {acc_0:.2f}%\")\n",
    "print(f\"Test Accuracy Quantized Inference: {acc_1:.2f}%\")\n",
    "print(f\"Test Accuracy Homomorphic Inference: {acc_2:.2f}%\")"
   ]
  },
  {
   "cell_type": "code",
   "execution_count": 11,
   "id": "ae601bdf-1a3a-490c-9803-da6ae08c4c29",
   "metadata": {},
   "outputs": [
    {
     "data": {
      "text/plain": [
       "<Figure size 432x288 with 0 Axes>"
      ]
     },
     "metadata": {},
     "output_type": "display_data"
    },
    {
     "data": {
      "image/png": "[encoded data removed]",
      "text/plain": [
       "<Figure size 864x432 with 2 Axes>"
      ]
     },
     "metadata": {
      "needs_background": "light"
     },
     "output_type": "display_data"
    }
   ],
   "source": [
    "from sklearn.decomposition import PCA\n",
    "\n",
    "pca = PCA(n_components=2)\n",
    "X_train_2d = pca.fit_transform(X_train_numpy)\n",
    "\n",
    "b_min = np.min(X_train_2d, axis=0)\n",
    "b_max = np.max(X_train_2d, axis=0)\n",
    "\n",
    "grid_dims = tuple(np.linspace(b_min[i], b_max[i], 128) for i in range(X_train_2d.shape[1]))\n",
    "ndgrid_tuple = np.meshgrid(*grid_dims)\n",
    "grid_2d = np.vstack([g.ravel() for g in ndgrid_tuple]).transpose()\n",
    "\n",
    "grid_test = pca.inverse_transform(grid_2d)\n",
    "grid_test_quantized = quantized_compiled_module.quantize_input(grid_test)\n",
    "\n",
    "grid_pred_all = quantized_compiled_module(grid_test_quantized)\n",
    "grid_pred_all_original = model(torch.tensor(grid_test).float()).detach().numpy()\n",
    "\n",
    "pred_classes = np.argmax(grid_pred_all, axis=1).astype(np.int32)\n",
    "pred_classes_original = np.argmax(grid_pred_all_original, axis=1).astype(np.int32)\n",
    "\n",
    "%matplotlib inline\n",
    "\n",
    "from matplotlib import pyplot as plt\n",
    "\n",
    "cmap = \"autumn\"\n",
    "# Create two subplots and set their locations\n",
    "plt.clf()\n",
    "fig, axs = plt.subplots(1, 2, figsize=(12, 6))\n",
    "\n",
    "# Plot original model contour plot\n",
    "axs[0].contourf(\n",
    "    ndgrid_tuple[0],\n",
    "    ndgrid_tuple[1],\n",
    "    pred_classes_original.reshape(ndgrid_tuple[0].shape),\n",
    "    cmap=cmap,\n",
    ")\n",
    "\n",
    "# Plot the scatter with marker borders\n",
    "axs[0].scatter(X_train_2d[:, 0], X_train_2d[:, 1], c=y_train_numpy, s=50, edgecolors=\"k\", cmap=cmap)\n",
    "\n",
    "# Add title and axis labels\n",
    "axs[0].set_title(\"Original Inference\")\n",
    "\n",
    "\n",
    "# Plot quantized model contour plot\n",
    "axs[1].contourf(\n",
    "    ndgrid_tuple[0], ndgrid_tuple[1], pred_classes.reshape(ndgrid_tuple[0].shape), cmap=cmap\n",
    ")\n",
    "\n",
    "# Plot the scatter with marker borders\n",
    "axs[1].scatter(X_train_2d[:, 0], X_train_2d[:, 1], c=y_train_numpy, s=50, edgecolors=\"k\", cmap=cmap)\n",
    "\n",
    "# Add title and axis labels\n",
    "axs[1].set_title(\"Quantized Inference\")\n",
    "\n",
    "\n",
    "plt.show()"
   ]
  },
  {
   "cell_type": "markdown",
   "id": "6f5525dc-de9c-45c7-8b3a-5e4072cf7a54",
   "metadata": {},
   "source": [
    "In the above plot, we show the decision boundaries for both the original and quantized model. The quantized model has it’s decision boundaries (colored regions) slightly shifted compared to the original model. This is due to the low-bit quantization applied to the model in post-training.\n",
    "\n",
    "Here we do not compute the contour plot for the FHE inference as this would be really costly but it should be pretty close to the quantized model."
   ]
  },
  {
   "cell_type": "markdown",
   "id": "eb727626-c211-46de-9622-c06c72baac69",
   "metadata": {},
   "source": [
    "# Summary"
   ]
  },
  {
   "cell_type": "markdown",
   "id": "c55effad-956e-40fe-92fe-fd4e2c86673e",
   "metadata": {},
   "source": [
    "In this notebook, we presented a few steps to have a model (torch neural network) inference in over homomorphically encrypted data: - We first trained a fully connected neural network yielding ~97% accuracy - Then, we quantized it using Concrete-Numpy. We observed a small decrease in accuracy here due to the strong quantization applied(accuracy = ~94%). - We then used the compiled inference into its FHE equivalent to get our FHE predictions over the test set\n",
    "\n",
    "The homomorphic inference achieves a similar accuracy as the quantized model inference.\n",
    "\n",
    "Disclaimer: post-training quantization with such a low bit width (<=3) can yield different results for the quantized model which will mainly depend on the range of the learned weights."
   ]
  },
  {
   "cell_type": "code",
   "execution_count": 12,
   "id": "022e783c-c4f2-439c-a188-0f6639da6f26",
   "metadata": {},
   "outputs": [
    {
     "name": "stdout",
     "output_type": "stream",
     "text": [
      "torch model prediction 0.0007 seconds\n",
      "quantized torch model clear predict 0.0058 seconds (8.2 longer than sklearn model\n",
      "quantized FHE torch model predict 4.2 minutes, 6.7s per record (362005.2 longer than sklearn model)\n",
      "quantized FHE torch model 2nd predict 1.1 minutes, 1.7s per record (93227.8 longer than sklearn model)\n"
     ]
    }
   ],
   "source": [
    "print(f\"torch model prediction {time_torch_model_predict:0.4f} seconds\")\n",
    "print(f\"quantized torch model clear predict {time_q_torch_model_predict:0.4f} seconds ({time_q_torch_model_predict/time_torch_model_predict:0.1f} longer than sklearn model\")\n",
    "print(f\"quantized FHE torch model predict {time_q_fhe_torch_model_predict_1/60:0.1f} minutes, {time_q_fhe_torch_model_predict_1/X_test_numpy.shape[0]:0.1f}s per record ({time_q_fhe_torch_model_predict_1/time_torch_model_predict:0.1f} longer than sklearn model)\")\n",
    "print(f\"quantized FHE torch model 2nd predict {time_q_fhe_torch_model_predict_2/60:0.1f} minutes, {time_q_fhe_torch_model_predict_2/X_test_numpy.shape[0]:0.1f}s per record ({time_q_fhe_torch_model_predict_2/time_torch_model_predict:0.1f} longer than sklearn model)\")"
   ]
  },
  {
   "cell_type": "code",
   "execution_count": null,
   "id": "aa8bcb26-dafc-4f47-9d7e-5e3c51112c71",
   "metadata": {},
   "outputs": [],
   "source": []
  }
 ],
 "metadata": {
  "kernelspec": {
   "display_name": "Python 3 (ipykernel)",
   "language": "python",
   "name": "python3"
  },
  "language_info": {
   "codemirror_mode": {
    "name": "ipython",
    "version": 3
   },
   "file_extension": ".py",
   "mimetype": "text/x-python",
   "name": "python",
   "nbconvert_exporter": "python",
   "pygments_lexer": "ipython3",
   "version": "3.9.12"
  }
 },
 "nbformat": 4,
 "nbformat_minor": 5
}
